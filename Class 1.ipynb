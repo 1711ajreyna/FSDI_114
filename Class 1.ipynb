{
 "cells": [
  {
   "cell_type": "code",
   "execution_count": 2,
   "id": "bd2c938a-e162-48b3-b425-db131d2a3889",
   "metadata": {},
   "outputs": [
    {
     "name": "stdout",
     "output_type": "stream",
     "text": [
      "h\n",
      "e\n",
      "l\n",
      "l\n",
      "o\n",
      ",\n",
      " \n",
      "w\n",
      "o\n",
      "r\n",
      "l\n",
      "d\n",
      "!\n"
     ]
    }
   ],
   "source": [
    "for char in \"hello, world!\":\n",
    "    print(char)\n",
    "\n",
    "# Press shift+enter when you've finished typing this."
   ]
  },
  {
   "cell_type": "markdown",
   "id": "81c5f417-e61c-46c0-bc5b-6fe1d3573ca0",
   "metadata": {},
   "source": [
    "# Problem 1\n",
    "## Anagram check\n",
    "\n",
    "Given two strings as inputs to your function, determine if these are anagrams of each other.  Return `True` if they are, `False` otherwise. \n",
    "\n",
    "### Criteria\n",
    "Two strings are anagrams if all the criteria below are met:\n",
    "1. They must be of euqual length.\n",
    "2. They must use the same letters, the same amount of time.\n",
    "\n",
    "```\n",
    "Examples:\n",
    "anagram_check(\"heart\", \"earth\") should return True\n",
    "anagram_check(\"scar\", \"cars\") should return True\n",
    "anagram_check(\"start\", \"rats\") should return True\n",
    "anagram_check(\"aaab\", \"aabb\") should return False\n",
    "```"
   ]
  },
  {
   "cell_type": "code",
   "execution_count": 15,
   "id": "0879726c-416b-4c39-b4a7-e91730d5a727",
   "metadata": {},
   "outputs": [
    {
     "name": "stdout",
     "output_type": "stream",
     "text": [
      "True\n"
     ]
    }
   ],
   "source": [
    "# Avoid  this, this si a poor solution:\n",
    "def anagram_check(str1, str2):\n",
    "    return sorted(str1) == sorted(str2)\n",
    "\n",
    "print(anagram_check(\"heart\", \"earth\"))\n",
    "\n",
    "# In the popular Harry Potter saga, the villian's name \"Voldermort\" is explained to have chose this name as it is an anagram\n",
    "# of his \"human name\" \"Tom Moarvolo Riddle\" is an anagram of \"I am Lord Voldermort\""
   ]
  },
  {
   "cell_type": "code",
   "execution_count": 16,
   "id": "c5f43693-2844-4cf9-b189-abe24792fd8d",
   "metadata": {},
   "outputs": [
    {
     "name": "stdout",
     "output_type": "stream",
     "text": [
      "True\n",
      "True\n",
      "True\n",
      "False\n",
      "False\n"
     ]
    }
   ],
   "source": [
    "# function anagram_check(str1, str2):\n",
    "#    remove spaces from str1\n",
    "#    remove spaces from str2\n",
    "\n",
    "#    If length of str1 is not equal to length of str2:\n",
    "#            return false\n",
    "#    end if\n",
    "\n",
    "#    convert str1 to lowercase \n",
    "#    convert str2 to lowercase\n",
    "\n",
    "#    convert str1 to list of characters and store it in list1\n",
    "#    convert str2 to list of characters and store it in list2\n",
    "\n",
    "#    sort list1\n",
    "#    sort list2\n",
    "\n",
    "#    if list1 is equal to list2:\n",
    "#        return True:\n",
    "#    else:\n",
    "#        return False\n",
    "#    end if\n",
    "# end function\n",
    "\n",
    "def anagram_check(str1, str2):\n",
    "    # Remove spaces from both strings\n",
    "    str1 = str1.replace(\" \", \"\").lower()\n",
    "    str2 = str2.replace(\" \", \"\").lower()\n",
    "    \n",
    "    # Different length strings are not anagrams\n",
    "    if len(str1) != len(str2):\n",
    "        return False\n",
    "        \n",
    "    char_count = {}\n",
    "\n",
    "    for char in str1:\n",
    "        if char in char_count:\n",
    "            char_count[char] += 1\n",
    "        else:\n",
    "            char_count[char] = 1\n",
    "\n",
    "    for char in str2:\n",
    "        if char in char_count:\n",
    "            char_count[char] -= 1\n",
    "        else:\n",
    "            return False\n",
    "        if char_count[char] < 0:\n",
    "            return False\n",
    "\n",
    "    for count in char_count.values():\n",
    "        if count != 0:\n",
    "            return False\n",
    "\n",
    "    return True\n",
    "# test cases\n",
    "print(anagram_check(\"Heart\", \"Earth\"))\n",
    "print(anagram_check(\"Scar\", \"Cars\"))\n",
    "print(anagram_check(\"star\", \"rats\"))\n",
    "print(anagram_check(\"AAAB\", \"AABB\"))\n",
    "print(anagram_check(\"Tom Moarvolo Riddle\", \"I am Lord Voldermort\"))"
   ]
  },
  {
   "cell_type": "code",
   "execution_count": null,
   "id": "69a29a6c-c2f8-43ba-9552-0d1d06b540da",
   "metadata": {},
   "outputs": [],
   "source": []
  }
 ],
 "metadata": {
  "kernelspec": {
   "display_name": "Python 3 (ipykernel)",
   "language": "python",
   "name": "python3"
  },
  "language_info": {
   "codemirror_mode": {
    "name": "ipython",
    "version": 3
   },
   "file_extension": ".py",
   "mimetype": "text/x-python",
   "name": "python",
   "nbconvert_exporter": "python",
   "pygments_lexer": "ipython3",
   "version": "3.12.2"
  }
 },
 "nbformat": 4,
 "nbformat_minor": 5
}
