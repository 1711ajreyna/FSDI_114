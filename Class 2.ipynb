{
 "cells": [
  {
   "cell_type": "code",
   "execution_count": 1,
   "id": "7c0fa2f8-3029-409b-be63-5c9f151ec979",
   "metadata": {},
   "outputs": [],
   "source": [
    "# Simplified implementation of Stack (using built-ins)\n",
    "\n",
    "class Stack:\n",
    "    def __init__(self):\n",
    "        self.items = []\n",
    "\n",
    "    def push(self, value):\n",
    "        self.items.append(value)\n",
    "\n",
    "    def pop(self):\n",
    "        return self.items.pop()\n",
    "\n",
    "    # nice to have methods \n",
    "    def size(self):\n",
    "        return len(self.items)\n",
    "\n",
    "    def peek(self):\n",
    "        self.items[len(self.items)-1]\n",
    "\n",
    "    def is_empty(self):\n",
    "        return self.items == []"
   ]
  },
  {
   "cell_type": "code",
   "execution_count": 2,
   "id": "5d6ba197-b5ba-462d-b1ca-d37302ec70da",
   "metadata": {},
   "outputs": [
    {
     "data": {
      "text/plain": [
       "'werdnA'"
      ]
     },
     "execution_count": 2,
     "metadata": {},
     "output_type": "execute_result"
    }
   ],
   "source": [
    "def invert_str(somestring):\n",
    "    stack = Stack()\n",
    "    for char in somestring:\n",
    "        stack.push(char)\n",
    "    out = \"\"\n",
    "    while not stack.is_empty():\n",
    "        out += stack.pop()\n",
    "    return out\n",
    "\n",
    "invert_str(\"Andrew\")\n",
    "\n",
    "        "
   ]
  },
  {
   "cell_type": "code",
   "execution_count": 3,
   "id": "d2b091f0-55b0-4695-88de-0c64337a2c4c",
   "metadata": {},
   "outputs": [
    {
     "name": "stdout",
     "output_type": "stream",
     "text": [
      "4556597888\n",
      "4556597856\n"
     ]
    }
   ],
   "source": [
    "# In python, the primary data types are:\n",
    "# int, bool, float\n",
    "\n",
    "x = 5\n",
    "y = x\n",
    "x += 1\n",
    "\n",
    "print(id(x))\n",
    "print(id(y))"
   ]
  },
  {
   "cell_type": "code",
   "execution_count": 4,
   "id": "d04de89c-5e58-4d85-bb60-2dbd01022dcf",
   "metadata": {},
   "outputs": [
    {
     "name": "stdout",
     "output_type": "stream",
     "text": [
      "4589837888\n",
      "4589837888\n"
     ]
    }
   ],
   "source": [
    "# Other data types and structures pass by reference\n",
    "\n",
    "x = [1, 2, 3]\n",
    "y = x\n",
    "y.append(4)\n",
    "\n",
    "print(id(x))\n",
    "print(id(y))"
   ]
  },
  {
   "cell_type": "code",
   "execution_count": 9,
   "id": "b24bd056-f176-423c-b1ca-9c238d059221",
   "metadata": {},
   "outputs": [],
   "source": [
    "class StackII:\n",
    "    class __Node:\n",
    "        def __init__(self, data):\n",
    "            self.data = data\n",
    "            self.below = None\n",
    "\n",
    "    def __init__(self):\n",
    "        self.top = None\n",
    "\n",
    "    def push(self, value):\n",
    "        new_node = self.__Node(value)\n",
    "        if not self.top:\n",
    "            self.top = new_node\n",
    "        else:\n",
    "            new_node.below = self.top\n",
    "            self.top = new_node\n",
    "            \n",
    "   # Push value onto Stack:\n",
    "   #     Create a new node with the give value\n",
    "   #     If the stack is empty \n",
    "   #         Set the top of the stack to the new node\n",
    "   #     Else:\n",
    "   #         Make the new node point to the current top of the stack\n",
    "   #         Update the top of the stack to be the new node\n",
    "\n",
    "    def pop(self):\n",
    "        if self.top:\n",
    "            datum = self.top.data\n",
    "            self.top = self.top.below  # updating the top reference so \n",
    "            return datum\n",
    "        raise IndexError(\"stack is empty\")\n",
    "\n",
    "    # Pop value form the Stack:\n",
    "    # If the stack is empty:\n",
    "    #   Print \"Stack is empty, Cannot pop\"\n",
    "    #    Return None\n",
    "    # Get the data from the top of the stack\n",
    "    # Update the top of the stack to point to the node below the current top\n",
    "    # Return the data\n",
    "\n",
    "    # nice to have methods, challenges!\n",
    "\n",
    "# the size method will itereate through the stack from top and counts the number of nodes encountered\n",
    "# size: Initilize a variabel to keep track of the size of the stack \n",
    "#      start from the top of the stack and traverse downwards\n",
    "#      Increment the size count for each node encountered \n",
    "#      Return the size of the stack \n",
    "\n",
    "def size(self):\n",
    "    size_count = 0\n",
    "    current_node = self.top\n",
    "    while current_node:\n",
    "        size_count += 1\n",
    "        current_node = current_node.below\n",
    "    return size_count\n",
    "\n",
    "#The peek method returns the data from the top of the stack without removing it, if the stack is empty get the message None\n",
    "# peek: If the stack is empty:\n",
    "#          print \"stack is empty, cannot peek\"\n",
    "#          Return None\n",
    "#       Get the data from the top of the stack \n",
    "#       Return the data\n",
    "\n",
    "def peek(self):\n",
    "    if not self.top:\n",
    "        print(\"Stack is empty, cannot peek\")\n",
    "    return self.top.data\n",
    "\n",
    "#The is_empty method checks if the top of the stack is None, if it is the True is retruned so the stack is empty otherwise you will get False.\n",
    "# is_empty:  Check if the top of the stack is None\n",
    "#            If it is None, return True( indicating that the stack is empty)\n",
    "#            Otherwise, return False\n",
    "\n",
    "def is_empty(self):\n",
    "    return self.top == None\n"
   ]
  },
  {
   "cell_type": "code",
   "execution_count": null,
   "id": "b9392fd7-8b56-440b-a8dc-c3bb0ae3a0c5",
   "metadata": {},
   "outputs": [],
   "source": []
  }
 ],
 "metadata": {
  "kernelspec": {
   "display_name": "Python 3 (ipykernel)",
   "language": "python",
   "name": "python3"
  },
  "language_info": {
   "codemirror_mode": {
    "name": "ipython",
    "version": 3
   },
   "file_extension": ".py",
   "mimetype": "text/x-python",
   "name": "python",
   "nbconvert_exporter": "python",
   "pygments_lexer": "ipython3",
   "version": "3.12.2"
  }
 },
 "nbformat": 4,
 "nbformat_minor": 5
}
